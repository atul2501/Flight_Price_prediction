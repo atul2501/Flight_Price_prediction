{
 "cells": [
  {
   "cell_type": "code",
   "execution_count": 1,
   "id": "39b7c499-4bd4-41a8-bfc4-dbf0d55f96d0",
   "metadata": {},
   "outputs": [],
   "source": [
    "import pickle \n",
    "import numpy as np "
   ]
  },
  {
   "cell_type": "code",
   "execution_count": 3,
   "id": "d48f281f-9a5b-4fcf-a86c-2a3f77419568",
   "metadata": {},
   "outputs": [],
   "source": [
    "\n",
    "pipe=pickle.load(open('pipe.pkl','rb'))"
   ]
  },
  {
   "cell_type": "code",
   "execution_count": 12,
   "id": "c23794d3-3d53-4a25-80dd-58c74d5da0ef",
   "metadata": {},
   "outputs": [
    {
     "name": "stdin",
     "output_type": "stream",
     "text": [
      "Enter Airline:  IndiGo\n",
      "Enter Source:  Delhi\n",
      "Enter Destination:  Cochin\n",
      "Enter Date (e.g., 21):  25\n",
      "Enter Month (e.g., 5):  01\n",
      "Enter Year (e.g., 2025):  2019\n"
     ]
    }
   ],
   "source": [
    "# Collect user input\n",
    "Airline = input(\"Enter Airline: \")\n",
    "Source = input(\"Enter Source: \")\n",
    "Destination = input(\"Enter Destination: \")\n",
    "# Additional_Info = input(\"Enter Additional Info: \")\n",
    "Date = int(input(\"Enter Date (e.g., 21): \"))\n",
    "Month = int(input(\"Enter Month (e.g., 5): \"))\n",
    "Year = int(input(\"Enter Year (e.g., 2025): \"))\n",
    "# Dep_Time_in_Hrs = int(input(\"Enter Departure Hour (0–23): \"))\n",
    "# Dep_Time_in_Min = int(input(\"Enter Departure Minute (0–59): \"))\n",
    "# Duration_hrs = int(input(\"Enter Duration Hours: \"))\n",
    "# Duration_min = int(input(\"Enter Duration Minutes: \"))\n",
    "# Arrival_Time_in_hrs = int(input(\"Enter Arrival Hour (0–23): \"))\n",
    "# Arrival_Time_in_min = int(input(\"Enter Arrival Minute (0–59): \"))\n",
    "#Assume user input\n",
    "test_input2=np.array([\n",
    "Airline,Source,Destination,0,0,Date,Month,Year,0,0,0,0,0,0],dtype=object).reshape(1,14)\n",
    "\n",
    "# test_input2=np.array([\n",
    "# Airline,Source,Destination,Additional_Info,Date,Month,Year,Dep_Time_in_Hrs,Dep_Time_in_Min,\n",
    "#     Duration_hrs,Duration_min,Arrival_Time_in_hrs,Arrival_Time_in_min],dtype=object).reshape(1,10)"
   ]
  },
  {
   "cell_type": "code",
   "execution_count": 16,
   "id": "4525d8bc-3dbe-4265-94fb-528dfe84b532",
   "metadata": {},
   "outputs": [
    {
     "name": "stderr",
     "output_type": "stream",
     "text": [
      "/opt/anaconda3/lib/python3.12/site-packages/sklearn/utils/validation.py:2739: UserWarning: X does not have valid feature names, but OneHotEncoder was fitted with feature names\n",
      "  warnings.warn(\n"
     ]
    },
    {
     "data": {
      "text/plain": [
       "array([0])"
      ]
     },
     "execution_count": 16,
     "metadata": {},
     "output_type": "execute_result"
    }
   ],
   "source": [
    "pipe.predict(test_input2)"
   ]
  },
  {
   "cell_type": "code",
   "execution_count": null,
   "id": "0d84711e-0c21-4a3c-a35e-325fa173f567",
   "metadata": {},
   "outputs": [],
   "source": []
  }
 ],
 "metadata": {
  "kernelspec": {
   "display_name": "Python [conda env:base] *",
   "language": "python",
   "name": "conda-base-py"
  },
  "language_info": {
   "codemirror_mode": {
    "name": "ipython",
    "version": 3
   },
   "file_extension": ".py",
   "mimetype": "text/x-python",
   "name": "python",
   "nbconvert_exporter": "python",
   "pygments_lexer": "ipython3",
   "version": "3.12.2"
  }
 },
 "nbformat": 4,
 "nbformat_minor": 5
}
